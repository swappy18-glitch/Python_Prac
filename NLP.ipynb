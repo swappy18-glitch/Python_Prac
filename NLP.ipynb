{
 "cells": [
  {
   "cell_type": "code",
   "execution_count": 1,
   "id": "c3fcf672",
   "metadata": {},
   "outputs": [],
   "source": [
    "# ! pip install spacy"
   ]
  },
  {
   "cell_type": "code",
   "execution_count": 2,
   "id": "6854ba06",
   "metadata": {},
   "outputs": [],
   "source": [
    "from spacy.lang.en import English"
   ]
  },
  {
   "cell_type": "code",
   "execution_count": 4,
   "id": "ec832018",
   "metadata": {},
   "outputs": [],
   "source": [
    "nlp = English()"
   ]
  },
  {
   "cell_type": "code",
   "execution_count": 5,
   "id": "711e7b73",
   "metadata": {},
   "outputs": [],
   "source": [
    "x = \"My name is anthony gonzalves\""
   ]
  },
  {
   "cell_type": "code",
   "execution_count": 8,
   "id": "c6fcd53d",
   "metadata": {},
   "outputs": [
    {
     "name": "stdout",
     "output_type": "stream",
     "text": [
      "My\n",
      "name\n",
      "is\n",
      "anthony\n",
      "gonzalves\n"
     ]
    }
   ],
   "source": [
    "for token in nlp(x):\n",
    "    print(token)"
   ]
  },
  {
   "cell_type": "code",
   "execution_count": 10,
   "id": "80113d71",
   "metadata": {},
   "outputs": [
    {
     "data": {
      "text/plain": [
       "y"
      ]
     },
     "execution_count": 10,
     "metadata": {},
     "output_type": "execute_result"
    }
   ],
   "source": [
    "nlp(x[1])"
   ]
  },
  {
   "cell_type": "code",
   "execution_count": 14,
   "id": "10c4b3e9",
   "metadata": {},
   "outputs": [
    {
     "name": "stdout",
     "output_type": "stream",
     "text": [
      "Come here and dance for me\n"
     ]
    }
   ],
   "source": [
    "nlp_2 =nlp(\"Come here and dance for me\")\n",
    "print(nlp(nlp_2.text))"
   ]
  },
  {
   "cell_type": "code",
   "execution_count": 15,
   "id": "df49cffb",
   "metadata": {},
   "outputs": [
    {
     "data": {
      "text/plain": [
       "[0, 1, 2, 3]"
      ]
     },
     "execution_count": 15,
     "metadata": {},
     "output_type": "execute_result"
    }
   ],
   "source": [
    "doc = nlp(\"it costs 20$\")\n",
    "[token.i for token in doc]"
   ]
  },
  {
   "cell_type": "code",
   "execution_count": 16,
   "id": "9940fafb",
   "metadata": {},
   "outputs": [
    {
     "data": {
      "text/plain": [
       "['it', 'costs', '20', '$']"
      ]
     },
     "execution_count": 16,
     "metadata": {},
     "output_type": "execute_result"
    }
   ],
   "source": [
    "[token.text for token in doc]"
   ]
  },
  {
   "cell_type": "code",
   "execution_count": 17,
   "id": "0acbc07c",
   "metadata": {},
   "outputs": [
    {
     "data": {
      "text/plain": [
       "[True, True, False, False]"
      ]
     },
     "execution_count": 17,
     "metadata": {},
     "output_type": "execute_result"
    }
   ],
   "source": [
    "[token.is_alpha for token in doc]"
   ]
  },
  {
   "cell_type": "code",
   "execution_count": 18,
   "id": "3e7f1a47",
   "metadata": {},
   "outputs": [
    {
     "data": {
      "text/plain": [
       "[False, False, False, False]"
      ]
     },
     "execution_count": 18,
     "metadata": {},
     "output_type": "execute_result"
    }
   ],
   "source": [
    "[token.is_punct for token in doc]"
   ]
  },
  {
   "cell_type": "code",
   "execution_count": 22,
   "id": "cb51fc6c",
   "metadata": {},
   "outputs": [
    {
     "data": {
      "text/plain": [
       "4"
      ]
     },
     "execution_count": 22,
     "metadata": {},
     "output_type": "execute_result"
    }
   ],
   "source": [
    "[token.like_num for token in doc]"
   ]
  },
  {
   "cell_type": "code",
   "execution_count": 24,
   "id": "26e188ba",
   "metadata": {},
   "outputs": [
    {
     "data": {
      "text/plain": [
       "[False, False, True, False]"
      ]
     },
     "execution_count": 24,
     "metadata": {},
     "output_type": "execute_result"
    }
   ],
   "source": [
    "nlp_3 = nlp('i have thirty dollars')\n",
    "[token.like_num for token in nlp_3]"
   ]
  },
  {
   "cell_type": "code",
   "execution_count": 3,
   "id": "3e741219",
   "metadata": {},
   "outputs": [],
   "source": [
    "import spacy\n",
    "# spacy.cli.download('en_core_web_sm')\n"
   ]
  },
  {
   "cell_type": "code",
   "execution_count": 5,
   "id": "b8432b10",
   "metadata": {},
   "outputs": [
    {
     "name": "stdout",
     "output_type": "stream",
     "text": [
      "load NOUN compound spacy\n",
      "spacy NOUN compound module\n",
      "module NOUN ROOT module\n",
      "en_core PROPN advmod module\n",
      "for SCONJ mark work\n",
      "me PRON nsubj work\n",
      "to PART aux work\n",
      "work VERB relcl module\n",
      "for ADP prep work\n",
      "nlp PROPN compound project\n",
      "project NOUN pobj for\n"
     ]
    }
   ],
   "source": [
    "nlp= spacy.load('en_core_web_sm')\n",
    "doc = nlp(\"load spacy module en_core for me to work for nlp project\")\n",
    "for token in doc:\n",
    "    print(token.text, token.pos_, token.dep_, token.head.text)"
   ]
  },
  {
   "cell_type": "code",
   "execution_count": 10,
   "id": "8bc50484",
   "metadata": {},
   "outputs": [],
   "source": [
    "a = nlp(\"Apple is looking at buying a start up for 4 billion\")"
   ]
  },
  {
   "cell_type": "code",
   "execution_count": 11,
   "id": "72b0b9cf",
   "metadata": {},
   "outputs": [
    {
     "name": "stdout",
     "output_type": "stream",
     "text": [
      "Apple ORG\n",
      "4 billion MONEY\n"
     ]
    }
   ],
   "source": [
    "for ent in a.ents:\n",
    "    print(ent.text, ent.label_)"
   ]
  },
  {
   "cell_type": "code",
   "execution_count": 16,
   "id": "e97fe341",
   "metadata": {},
   "outputs": [
    {
     "name": "stdout",
     "output_type": "stream",
     "text": [
      "[]\n"
     ]
    }
   ],
   "source": [
    "from spacy.matcher import Matcher\n",
    "nlp = spacy.load(\"en_core_web_sm\")\n",
    "#INITIALIZE PATTERN WITH MATCHER\n",
    "matcher = Matcher(nlp.vocab)\n",
    "#SET THE PATTERN TO BE ADDED TO THE MATCHER\n",
    "pattern = [{'LEMMA':'love'},{'POS':'VERB'},{'POS':'NOUN'}]\n",
    "matcher.add(4,[pattern])#'IPHONE_PATTERN',\n",
    "#PROCESS SOME TEXT \n",
    "doc = nlp(\"I love dogs but not so much cats\")\n",
    "matches = matcher(doc)\n",
    "print(matches)"
   ]
  },
  {
   "cell_type": "code",
   "execution_count": 14,
   "id": "e96c0fb5",
   "metadata": {},
   "outputs": [
    {
     "name": "stdout",
     "output_type": "stream",
     "text": [
      "[]\n"
     ]
    }
   ],
   "source": []
  },
  {
   "cell_type": "code",
   "execution_count": null,
   "id": "d1e4f3e3",
   "metadata": {},
   "outputs": [],
   "source": []
  }
 ],
 "metadata": {
  "kernelspec": {
   "display_name": "Python 3 (ipykernel)",
   "language": "python",
   "name": "python3"
  },
  "language_info": {
   "codemirror_mode": {
    "name": "ipython",
    "version": 3
   },
   "file_extension": ".py",
   "mimetype": "text/x-python",
   "name": "python",
   "nbconvert_exporter": "python",
   "pygments_lexer": "ipython3",
   "version": "3.9.13"
  }
 },
 "nbformat": 4,
 "nbformat_minor": 5
}
